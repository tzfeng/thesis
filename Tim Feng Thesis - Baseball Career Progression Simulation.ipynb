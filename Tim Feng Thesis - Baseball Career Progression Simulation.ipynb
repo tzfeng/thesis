{
 "cells": [
  {
   "cell_type": "code",
   "execution_count": 2,
   "metadata": {},
   "outputs": [],
   "source": [
    "import numpy as np\n",
    "import random as rm"
   ]
  },
  {
   "cell_type": "code",
   "execution_count": 3,
   "metadata": {},
   "outputs": [],
   "source": [
    "states = ['mlb', 'aaa', 'aa', 'a+', 'a']\n",
    "\n",
    "# m = mlb, 3 = aaa, 2 = aa, + = a+, 1 = a\n",
    "transitionName = [['mm', 'm3', 'm2', 'm+', 'm1'],\n",
    "                 ['3m', '33', '32', '3+', '31'],\n",
    "                 ['2m', '23', '22', '2+', '21'],\n",
    "                 ['+m', '+3', '+2', '++', '+1'],\n",
    "                 ['1m', '13', '12', '1+', '11']]\n",
    "\n",
    "transitionMatrix = [[0.7, 0.3, 0.0, 0.0, 0.0],\n",
    "                   [0.2, 0.8, 0.0, 0.0, 0.0],\n",
    "                   [0.3, 0.1, 0.6, 0.0, 0.0],\n",
    "                   [0.0, 0.0, 0.1, 0.9, 0.0],\n",
    "                   [0.0, 0.0, 0.0, 0.5, 0.5]]"
   ]
  },
  {
   "cell_type": "code",
   "execution_count": 16,
   "metadata": {},
   "outputs": [],
   "source": [
    "# takes in the starting minor league class and the duration of the ISA contract\n",
    "# returns an array of the states that the player played in during the duration of the contract\n",
    "def career_progression(start, years):\n",
    "    \n",
    "    # states that the player played in\n",
    "    states = [start]\n",
    "    league = start\n",
    "    \n",
    "    # probability of having that sequence of states\n",
    "    prob = 1\n",
    "    \n",
    "    for i in range(years - 1):\n",
    "        if league == 'mlb':\n",
    "            change = np.random.choice(transitionName[0], replace=True, p=transitionMatrix[0])\n",
    "            if change == 'mm':\n",
    "                prob = prob * 0.7\n",
    "                states.append('mlb')\n",
    "            else:\n",
    "                prob = prob * 0.3\n",
    "                states.append('aaa')\n",
    "                league = 'aaa'\n",
    "        elif league == 'aaa':\n",
    "            change = np.random.choice(transitionName[1], replace=True, p=transitionMatrix[1])\n",
    "            if change == '3m':\n",
    "                prob = prob * 0.2\n",
    "                states.append('mlb')\n",
    "                league = 'mlb'\n",
    "            else:\n",
    "                prob = prob * 0.8\n",
    "                states.append('aaa')\n",
    "        elif league == 'aa':\n",
    "            change = np.random.choice(transitionName[2], replace=True, p=transitionMatrix[2])\n",
    "            if change == '2m':\n",
    "                prob = prob * 0.3\n",
    "                states.append('mlb')\n",
    "                league = 'mlb'\n",
    "            elif change == '23':\n",
    "                prob = prob * 0.1\n",
    "                states.append('aaa')\n",
    "                league = 'aaa'\n",
    "            else:\n",
    "                prob = prob * 0.6\n",
    "                states.append('aa')\n",
    "        elif league == 'a+':\n",
    "            change = np.random.choice(transitionName[3], replace=True, p=transitionMatrix[3])\n",
    "            if change == '+2':\n",
    "                prob = prob * 0.1\n",
    "                states.append('aa')\n",
    "                league = 'aa'\n",
    "            else:\n",
    "                prob = prob * 0.9\n",
    "                states.append('a+')\n",
    "        else:\n",
    "            change = np.random.choice(transitionName[4], replace=True, p=transitionMatrix[4])\n",
    "            if change == '1+':\n",
    "                prob = prob * 0.5\n",
    "                states.append('a+')\n",
    "                league = 'a+'\n",
    "            else:\n",
    "                prob = prob * 0.5\n",
    "                states.append('a')\n",
    "                \n",
    "    print('Career progression: ' + str(states))\n",
    "    print(\"Current league after \"+ str(years) + \" years: \" + league)\n",
    "    print('Probability of this progression: ' + str(prob))\n",
    "\n",
    "    return states, prob"
   ]
  },
  {
   "cell_type": "code",
   "execution_count": 17,
   "metadata": {},
   "outputs": [
    {
     "name": "stdout",
     "output_type": "stream",
     "text": [
      "Career progression: ['aaa', 'aaa', 'aaa', 'mlb', 'mlb']\n",
      "Current league after 5 years: mlb\n",
      "Probability of this progression: 0.08960000000000001\n"
     ]
    },
    {
     "data": {
      "text/plain": [
       "(['aaa', 'aaa', 'aaa', 'mlb', 'mlb'], 0.08960000000000001)"
      ]
     },
     "execution_count": 17,
     "metadata": {},
     "output_type": "execute_result"
    }
   ],
   "source": [
    "career_progression('aaa', 5)"
   ]
  },
  {
   "cell_type": "code",
   "execution_count": null,
   "metadata": {},
   "outputs": [],
   "source": []
  }
 ],
 "metadata": {
  "kernelspec": {
   "display_name": "Python 3",
   "language": "python",
   "name": "python3"
  },
  "language_info": {
   "codemirror_mode": {
    "name": "ipython",
    "version": 3
   },
   "file_extension": ".py",
   "mimetype": "text/x-python",
   "name": "python",
   "nbconvert_exporter": "python",
   "pygments_lexer": "ipython3",
   "version": "3.7.6"
  }
 },
 "nbformat": 4,
 "nbformat_minor": 4
}
